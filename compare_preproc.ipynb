{
 "cells": [
  {
   "cell_type": "code",
   "execution_count": 9,
   "metadata": {},
   "outputs": [],
   "source": [
    "from datasets import DatasetDict\n",
    "\n",
    "import numpy as np\n"
   ]
  },
  {
   "cell_type": "code",
   "execution_count": 2,
   "metadata": {},
   "outputs": [],
   "source": [
    "ds_0 = DatasetDict.load_from_disk(r'D:\\training\\cdpo\\datasets\\dpo_preproc_sm_valtest_aug09')\n",
    "ds_1 = DatasetDict.load_from_disk(r'D:\\training\\cdpo\\retrain_w_preproc_dpo_sm_aug12\\dpo_preproc_data')\n"
   ]
  },
  {
   "cell_type": "code",
   "execution_count": 4,
   "metadata": {},
   "outputs": [
    {
     "name": "stdout",
     "output_type": "stream",
     "text": [
      "Sizes: (115008, 115008)\n"
     ]
    }
   ],
   "source": [
    "\n",
    "print(\"Sizes:\" , (len(ds_0['train']), len(ds_1['train'])))"
   ]
  },
  {
   "cell_type": "code",
   "execution_count": 8,
   "metadata": {},
   "outputs": [
    {
     "name": "stdout",
     "output_type": "stream",
     "text": [
      "-59.068931579589844 -59.068904876708984\n",
      "-198.23272705078125 -198.23269653320312\n"
     ]
    }
   ],
   "source": [
    "print(ds_0['train'][0]['chosen_log_prob'], ds_1['train'][0]['chosen_log_prob'])\n",
    "print(ds_0['train'][0]['rejected_log_prob'], ds_1['train'][0]['rejected_log_prob'])"
   ]
  },
  {
   "cell_type": "code",
   "execution_count": 10,
   "metadata": {},
   "outputs": [],
   "source": [
    "def calc_deltas(ds_old, ds_new):\n",
    "    chosen_deltas, reject_deltas = [], []\n",
    "    for ex_0, ex_1 in zip(ds_old, ds_new):\n",
    "        chosen_deltas.append(ex_0['chosen_log_prob'] - ex_1['chosen_log_prob'])\n",
    "        reject_deltas.append(ex_0['rejected_log_prob'] - ex_1['rejected_log_prob'])\n",
    "\n",
    "    return np.array(chosen_deltas), np.array(reject_deltas)\n"
   ]
  },
  {
   "cell_type": "code",
   "execution_count": 11,
   "metadata": {},
   "outputs": [
    {
     "ename": "AttributeError",
     "evalue": "'numpy.ndarray' object has no attribute 'abs'",
     "output_type": "error",
     "traceback": [
      "\u001b[1;31m---------------------------------------------------------------------------\u001b[0m",
      "\u001b[1;31mAttributeError\u001b[0m                            Traceback (most recent call last)",
      "Cell \u001b[1;32mIn[11], line 2\u001b[0m\n\u001b[0;32m      1\u001b[0m chosen_deltas, reject_deltas \u001b[38;5;241m=\u001b[39m calc_deltas(ds_0[\u001b[38;5;124m'\u001b[39m\u001b[38;5;124mtrain\u001b[39m\u001b[38;5;124m'\u001b[39m], ds_1[\u001b[38;5;124m'\u001b[39m\u001b[38;5;124mtrain\u001b[39m\u001b[38;5;124m'\u001b[39m])\n\u001b[1;32m----> 2\u001b[0m \u001b[38;5;28mprint\u001b[39m(\u001b[43mchosen_deltas\u001b[49m\u001b[38;5;241;43m.\u001b[39;49m\u001b[43mabs\u001b[49m()\u001b[38;5;241m.\u001b[39mmax(), reject_deltas\u001b[38;5;241m.\u001b[39mabs()\u001b[38;5;241m.\u001b[39mmax())\n",
      "\u001b[1;31mAttributeError\u001b[0m: 'numpy.ndarray' object has no attribute 'abs'"
     ]
    }
   ],
   "source": [
    "chosen_deltas, reject_deltas = calc_deltas(ds_0['train'], ds_1['train'])\n"
   ]
  },
  {
   "cell_type": "code",
   "execution_count": 12,
   "metadata": {},
   "outputs": [
    {
     "name": "stdout",
     "output_type": "stream",
     "text": [
      "0.00029754638671875 0.000335693359375\n"
     ]
    }
   ],
   "source": [
    "print(np.abs(chosen_deltas).max(), np.abs(reject_deltas).max())"
   ]
  },
  {
   "cell_type": "code",
   "execution_count": null,
   "metadata": {},
   "outputs": [],
   "source": []
  }
 ],
 "metadata": {
  "kernelspec": {
   "display_name": "Python 3",
   "language": "python",
   "name": "python3"
  },
  "language_info": {
   "codemirror_mode": {
    "name": "ipython",
    "version": 3
   },
   "file_extension": ".py",
   "mimetype": "text/x-python",
   "name": "python",
   "nbconvert_exporter": "python",
   "pygments_lexer": "ipython3",
   "version": "3.9.2"
  }
 },
 "nbformat": 4,
 "nbformat_minor": 2
}
